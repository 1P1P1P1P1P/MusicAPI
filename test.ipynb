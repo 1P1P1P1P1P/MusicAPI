{
 "cells": [
  {
   "cell_type": "code",
   "execution_count": null,
   "id": "initial_id",
   "metadata": {
    "collapsed": true
   },
   "outputs": [],
   "source": [
    "from api.qqmusic import QQMusicClient\n",
    "client = QQMusicClient()\n",
    "client.login()"
   ]
  },
  {
   "metadata": {
    "ExecuteTime": {
     "end_time": "2024-04-18T12:07:35.683468Z",
     "start_time": "2024-04-18T12:07:35.670498Z"
    }
   },
   "cell_type": "code",
   "source": "len(\"zzbae046343owoz3ypmd6l8smqzaavaow9fe2f99c\")",
   "id": "eb6cb836b2bf2ed6",
   "outputs": [
    {
     "data": {
      "text/plain": [
       "41"
      ]
     },
     "execution_count": 1,
     "metadata": {},
     "output_type": "execute_result"
    }
   ],
   "execution_count": 1
  },
  {
   "metadata": {},
   "cell_type": "code",
   "outputs": [],
   "execution_count": null,
   "source": "",
   "id": "a2bd8286fa267aca"
  }
 ],
 "metadata": {
  "kernelspec": {
   "display_name": "Python 3",
   "language": "python",
   "name": "python3"
  },
  "language_info": {
   "codemirror_mode": {
    "name": "ipython",
    "version": 2
   },
   "file_extension": ".py",
   "mimetype": "text/x-python",
   "name": "python",
   "nbconvert_exporter": "python",
   "pygments_lexer": "ipython2",
   "version": "2.7.6"
  }
 },
 "nbformat": 4,
 "nbformat_minor": 5
}
